{
 "cells": [
  {
   "cell_type": "code",
   "execution_count": 1,
   "metadata": {},
   "outputs": [],
   "source": [
    "from pur import update_requirements"
   ]
  },
  {
   "cell_type": "code",
   "execution_count": 2,
   "metadata": {},
   "outputs": [
    {
     "name": "stdout",
     "output_type": "stream",
     "text": [
      "['Updated h5py: 2.7.0 -> 2.10.0', 'Updated lightgbm: 2.0.11 -> 2.3.1', 'Updated numpy: 1.11.0 -> 1.19.1', 'Updated pathos: 0.2.1 -> 0.2.6', 'Updated python-dateutil: 2.6.1 -> 2.8.1', 'Updated scikit-learn: 0.18.1 -> 0.23.1', 'Updated scipy: 0.14.0 -> 1.5.2', 'Updated sklearn-deap2: 0.2.1 -> 0.2.2', 'Updated tabulate: 0.7.5 -> 0.8.7']\n"
     ]
    }
   ],
   "source": [
    "print([x[0]['message'] for x in update_requirements(input_file='requirements.txt').values()])"
   ]
  }
 ],
 "metadata": {
  "kernelspec": {
   "display_name": "Python 3",
   "language": "python",
   "name": "python3"
  },
  "language_info": {
   "codemirror_mode": {
    "name": "ipython",
    "version": 3
   },
   "file_extension": ".py",
   "mimetype": "text/x-python",
   "name": "python",
   "nbconvert_exporter": "python",
   "pygments_lexer": "ipython3",
   "version": "3.7.6"
  }
 },
 "nbformat": 4,
 "nbformat_minor": 4
}
